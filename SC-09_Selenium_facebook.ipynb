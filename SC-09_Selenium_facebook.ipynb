{
 "cells": [
  {
   "cell_type": "markdown",
   "metadata": {},
   "source": [
    "# Data in Action: Scraping and Notification\n",
    "## Introduction to Selenium\n",
    "\n",
    "<img src=\"Pic_data/Python_Logo.png\">\n",
    "\n",
    "\n",
    "<img src=\"Pic_data/PY-01_Elephant.jpg\" style=\"width: 500px;\">\n",
    "\n",
    "https://www.facebook.com/elephant.data.th/"
   ]
  },
  {
   "cell_type": "code",
   "execution_count": null,
   "metadata": {},
   "outputs": [],
   "source": [
    "from selenium import webdriver # require pip install selenium"
   ]
  },
  {
   "cell_type": "code",
   "execution_count": null,
   "metadata": {},
   "outputs": [],
   "source": [
    "driver = webdriver.Chrome('Chromedriver_win32\\\\chromedriver.exe')\n"
   ]
  },
  {
   "cell_type": "markdown",
   "metadata": {},
   "source": [
    "# หน้า Page Facebook\n",
    "<img src = \"Pic_data/SC-09_facebookPage.png\">"
   ]
  },
  {
   "cell_type": "code",
   "execution_count": null,
   "metadata": {},
   "outputs": [],
   "source": [
    "path = 'https://www.facebook.com/'\n",
    "# path for close groiup\n",
    "#path = 'https://www.facebook.com/groups/889989841164588/?ref=bookmarks'"
   ]
  },
  {
   "cell_type": "code",
   "execution_count": null,
   "metadata": {},
   "outputs": [],
   "source": [
    "driver.get(path)"
   ]
  },
  {
   "cell_type": "markdown",
   "metadata": {},
   "source": [
    "## ดึง text ผ่าน Selenium\n",
    "<img src = \"Pic_data/SC-09_intro_email.png\">"
   ]
  },
  {
   "cell_type": "code",
   "execution_count": null,
   "metadata": {},
   "outputs": [],
   "source": [
    "# Try print text\n",
    "\n",
    "EmailText = driver.find_element_by_xpath(\"//label[@for='email']\").text\n",
    "print(EmailText)"
   ]
  },
  {
   "cell_type": "markdown",
   "metadata": {},
   "source": [
    "## Exercise: ดึง Text ผ่าน selenium (รหัสผ่าน)\n",
    "\n",
    "<img src = \"Pic_data/SC-09_intro_password.png\">"
   ]
  },
  {
   "cell_type": "code",
   "execution_count": null,
   "metadata": {},
   "outputs": [],
   "source": [
    "# ลองทำดู"
   ]
  },
  {
   "cell_type": "code",
   "execution_count": null,
   "metadata": {},
   "outputs": [],
   "source": [
    "PassText = driver.find_element_by_xpath(\"//xxxx[@xxxx='xxxx']\").text\n",
    "print(PassText)"
   ]
  },
  {
   "cell_type": "code",
   "execution_count": null,
   "metadata": {},
   "outputs": [],
   "source": []
  },
  {
   "cell_type": "code",
   "execution_count": null,
   "metadata": {},
   "outputs": [],
   "source": []
  },
  {
   "cell_type": "code",
   "execution_count": null,
   "metadata": {},
   "outputs": [],
   "source": []
  },
  {
   "cell_type": "code",
   "execution_count": null,
   "metadata": {},
   "outputs": [],
   "source": []
  },
  {
   "cell_type": "code",
   "execution_count": null,
   "metadata": {},
   "outputs": [],
   "source": []
  },
  {
   "cell_type": "code",
   "execution_count": null,
   "metadata": {},
   "outputs": [],
   "source": []
  },
  {
   "cell_type": "code",
   "execution_count": null,
   "metadata": {},
   "outputs": [],
   "source": []
  },
  {
   "cell_type": "markdown",
   "metadata": {},
   "source": [
    "## Solution"
   ]
  },
  {
   "cell_type": "code",
   "execution_count": null,
   "metadata": {},
   "outputs": [],
   "source": [
    "PassText = driver.find_element_by_xpath(\"//label[@for='pass']\").text\n",
    "print(PassText)"
   ]
  },
  {
   "cell_type": "markdown",
   "metadata": {},
   "source": [
    "# ความเทพของ Selenium คือการ Control เหมือนคนเข้าไปใช้เวปเอง\n",
    "## สามารถใส่ text หรือ กดปุ่มได้\n",
    "\n"
   ]
  },
  {
   "cell_type": "markdown",
   "metadata": {},
   "source": [
    "# ใส่ Username\n",
    "\n",
    "<img src = \"Pic_data/SC-09_input_email.png\">"
   ]
  },
  {
   "cell_type": "code",
   "execution_count": null,
   "metadata": {},
   "outputs": [],
   "source": [
    "# input username\n",
    "driver.find_element_by_xpath(\"//input[@type='email']\").send_keys('peeraponge@gmail.com') # เปลี่ยนเป็น user ตัวเองนะครับ\n"
   ]
  },
  {
   "cell_type": "markdown",
   "metadata": {},
   "source": [
    "# ใส่ Password\n",
    "\n",
    "<img src = \"Pic_data/SC-09_input_password.png\">"
   ]
  },
  {
   "cell_type": "code",
   "execution_count": null,
   "metadata": {},
   "outputs": [],
   "source": [
    "# input password after send_keys('')\n",
    "driver.find_element_by_xpath(\"//input[@type='password'][@class = 'inputtext']\").send_keys('xxxxx') # ใส่ password ตัวเอง\n"
   ]
  },
  {
   "cell_type": "markdown",
   "metadata": {},
   "source": [
    "## กดปุ่ม Submit\n",
    "\n",
    "<img src = \"Pic_data/SC-09_input_submit.png\">\n",
    "\n"
   ]
  },
  {
   "cell_type": "code",
   "execution_count": null,
   "metadata": {},
   "outputs": [],
   "source": [
    "# Click Button to log-in\n",
    "driver.find_element_by_xpath(\"//label[@class='uiButton uiButtonConfirm'][@id = 'loginbutton']\").click()\n",
    "\n"
   ]
  },
  {
   "cell_type": "code",
   "execution_count": null,
   "metadata": {},
   "outputs": [],
   "source": [
    "# ปิดการทำงานของ driver (ปิด browser)\n",
    "driver.quit()"
   ]
  },
  {
   "cell_type": "code",
   "execution_count": null,
   "metadata": {},
   "outputs": [],
   "source": []
  }
 ],
 "metadata": {
  "kernelspec": {
   "display_name": "Python 3",
   "language": "python",
   "name": "python3"
  },
  "language_info": {
   "codemirror_mode": {
    "name": "ipython",
    "version": 3
   },
   "file_extension": ".py",
   "mimetype": "text/x-python",
   "name": "python",
   "nbconvert_exporter": "python",
   "pygments_lexer": "ipython3",
   "version": "3.7.0"
  }
 },
 "nbformat": 4,
 "nbformat_minor": 2
}
